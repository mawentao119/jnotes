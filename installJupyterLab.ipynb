{
 "cells": [
  {
   "cell_type": "markdown",
   "id": "f10b6ff9-fefa-47b6-9612-46ec058693a8",
   "metadata": {},
   "source": [
    "#### 安装jupyterlab\n",
    "website： https://jupyter.org/install"
   ]
  },
  {
   "cell_type": "code",
   "execution_count": null,
   "id": "d1df4c92-ae2b-409b-80d5-6c71ab42a152",
   "metadata": {},
   "outputs": [],
   "source": [
    "mkdir jupyter ; cd jupyter ;\n",
    "python3 -m pip install virtualenv ;\n",
    "python3 -m virtualenv py3env ;"
   ]
  },
  {
   "cell_type": "markdown",
   "id": "2354623e-ba22-48d9-b6e4-f7a0fa77878a",
   "metadata": {},
   "source": [
    "#### source 生效后进行模块安装"
   ]
  },
  {
   "cell_type": "code",
   "execution_count": null,
   "id": "e0fe14d9-735e-4fed-aa2f-d4258366ecfd",
   "metadata": {},
   "outputs": [],
   "source": [
    "source py3env/bin/activate"
   ]
  },
  {
   "cell_type": "markdown",
   "id": "830d290d-73f0-4b2c-bbd7-164268871a5e",
   "metadata": {},
   "source": [
    "#### 安装jupyterlab 和 相应的 kernel"
   ]
  },
  {
   "cell_type": "code",
   "execution_count": null,
   "id": "5eaa9496-dc6c-48f8-b656-6f6dddfdf7bc",
   "metadata": {},
   "outputs": [],
   "source": [
    "pip install jupyterlab\n",
    "pip install voila\n",
    "\n",
    "pip install bash_kernel\n",
    "python -m bash_kernel.install"
   ]
  },
  {
   "cell_type": "markdown",
   "id": "5c524642-aaeb-47ec-8a75-b0094c2816e2",
   "metadata": {},
   "source": [
    "#### jupyter lab git \n",
    "website: https://github.com/jupyterlab/jupyterlab-git"
   ]
  },
  {
   "cell_type": "code",
   "execution_count": null,
   "id": "b6391a44-6c02-499f-97a7-c1ebfb3fe155",
   "metadata": {},
   "outputs": [],
   "source": [
    "pip install --upgrade jupyterlab jupyterlab-git"
   ]
  },
  {
   "cell_type": "markdown",
   "id": "80a4740a-6cf8-4c62-a6df-9cd01a5d54a1",
   "metadata": {},
   "source": [
    "#### （选装） ansible kernel 有些环境安装不上\n",
    "##### 建议用 bash kernel 代替\n",
    "website: https://github.com/ansible/ansible-jupyter-kernel"
   ]
  },
  {
   "cell_type": "code",
   "execution_count": null,
   "id": "a92da3f9-b4cf-40ef-8da5-8d301de0ba9d",
   "metadata": {},
   "outputs": [],
   "source": [
    "pip install ansible\n",
    "\n",
    "pip install ansible-kernel\n",
    "python -m ansible_kernel.install"
   ]
  },
  {
   "cell_type": "code",
   "execution_count": null,
   "id": "b043819d-0dbf-4a79-9e4a-a4be704b6de0",
   "metadata": {},
   "outputs": [],
   "source": []
  }
 ],
 "metadata": {
  "kernelspec": {
   "display_name": "Bash",
   "language": "bash",
   "name": "bash"
  },
  "language_info": {
   "codemirror_mode": "shell",
   "file_extension": ".sh",
   "mimetype": "text/x-sh",
   "name": "bash"
  }
 },
 "nbformat": 4,
 "nbformat_minor": 5
}
