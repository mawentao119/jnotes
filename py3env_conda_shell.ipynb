{
 "cells": [
  {
   "cell_type": "markdown",
   "id": "140af64a-34e3-47e3-8d57-5bff9c843777",
   "metadata": {},
   "source": [
    "#### Create test env using conda shell"
   ]
  },
  {
   "cell_type": "code",
   "execution_count": null,
   "id": "296cb5f5-8933-4ef0-8d0e-61617eed4a92",
   "metadata": {},
   "outputs": [],
   "source": [
    "ENV_NAME=\"py3env\"\n",
    "\n",
    "conda remove --name ${ENV_NAME} --all\n",
    "\n",
    "conda create --name ${ENV_NAME} python=3.8.5\n",
    "conda activate ${ENV_NAME}\n",
    "\n",
    "conda install jupyterlab\n",
    "pip install --user ansible\n",
    "pip install --user paramiko\n",
    "\n",
    "pip install voila\n",
    "pip install bash_kernel\n",
    "python -m bash_kernel.install \n",
    "pip install --upgrade jupyterlab jupyterlab-git\n",
    "\n",
    "pip install robotkernel\n",
    "python -m robotkernel.install\n",
    "\n",
    "jupyter labextension install jupyterlab_robotmode\n",
    "jupyter labextension install @jupyter-widgets/jupyterlab-manager\n",
    "\n",
    "\n",
    "conda deactivate"
   ]
  }
 ],
 "metadata": {
  "kernelspec": {
   "display_name": "Bash",
   "language": "bash",
   "name": "bash"
  },
  "language_info": {
   "codemirror_mode": "shell",
   "file_extension": ".sh",
   "mimetype": "text/x-sh",
   "name": "bash"
  }
 },
 "nbformat": 4,
 "nbformat_minor": 5
}
