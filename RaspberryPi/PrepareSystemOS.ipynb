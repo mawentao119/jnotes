{
 "cells": [
  {
   "cell_type": "markdown",
   "id": "6c656f63-1ad6-4d01-87c5-366c04af2043",
   "metadata": {},
   "source": [
    "## Raspberry Pi 操作系统的准备\n",
    "---\n",
    "### 1. 基础准备与配置\n",
    "#### 查看系统的对比 和 下载image\n",
    "- 查看系统的对比： https://www.raspberrypi.org/documentation/computers/os.html#introduction\n",
    "- 下载image：https://www.raspberrypi.org/software/operating-systems/#raspberry-pi-os-32-bit"
   ]
  },
  {
   "cell_type": "markdown",
   "id": "ee4f7b82-9997-4d0c-a879-ec6bc58790c0",
   "metadata": {},
   "source": [
    "#### 使用刷image软件，刷image（.ZIP）到 tf 卡\n",
    "- image manager : `sudo apt install rpi-imager`\n",
    "- etcher : windows上安装"
   ]
  },
  {
   "cell_type": "markdown",
   "id": "ccc4ccc3-0375-4ad8-911d-be292f9d3f2b",
   "metadata": {},
   "source": [
    "#### 加电启动后，更不系统包：\n",
    "- `sudo apt update ; sudo apt full-upgrade`"
   ]
  },
  {
   "cell_type": "markdown",
   "id": "8c6c7c1b-d461-413b-8189-54aadb554208",
   "metadata": {},
   "source": [
    "#### `raspi-config` 进行系统配置\n",
    "- System config -> WLan config 配置wifi连接（如果有代理则会失败）\n",
    "- Advanced Options --> Expand Filesystem\n",
    "- Location -> Local\n",
    "- InterfaceOptions -> SSH --> Enable sshd"
   ]
  },
  {
   "cell_type": "markdown",
   "id": "09d089fa-1d7b-44b3-9bbf-2900040c9093",
   "metadata": {},
   "source": [
    "#### Install Java\n",
    "- `1sudo apt install openjdk-8-jdk`"
   ]
  },
  {
   "cell_type": "markdown",
   "id": "dbd277e0-9bf2-4f6e-9473-f0413616f392",
   "metadata": {},
   "source": [
    "#### 如果喜欢用 vim \n",
    "- `sudo apt install vim`"
   ]
  },
  {
   "cell_type": "markdown",
   "id": "21bdb51b-6634-4885-b961-d8fb2ed80703",
   "metadata": {},
   "source": [
    "---"
   ]
  },
  {
   "cell_type": "markdown",
   "id": "c0f0a85c-31f6-4679-95cd-5e13a1125c68",
   "metadata": {},
   "source": [
    "### 2. 网络相关配置\n",
    "#### 无线网络下的固定IP\n",
    "- https://www.ionos.com/digitalguide/server/configuration/provide-raspberry-pi-with-a-static-ip-address/\n",
    "- ** sudo vim /etc/dhcpcd.conf **\n",
    "```\n",
    "interface eth0\n",
    "static ip_address=192.168.0.4/24\n",
    "static routers=192.168.0.1\n",
    "static domain_name_servers=192.168.0.1\n",
    "```\n",
    "\n",
    "#### 无线网络的增减\n",
    "- remove wifi SSID of pi:    delete the specific {} item.\n",
    "- ** sudo vim /etc/wpa_supplicant/wpa_supplicant.conf **\n",
    "```\n",
    "network={\n",
    " scan_ssid=1\n",
    " ssid=\"MyNetworkSSID\"\n",
    " psk=\"Pa55w0rd1234\"\n",
    " priority=50\n",
    "}\n",
    "```\n"
   ]
  },
  {
   "cell_type": "markdown",
   "id": "4917723e-3286-486e-bf69-c302b63408f6",
   "metadata": {},
   "source": [
    "---"
   ]
  },
  {
   "cell_type": "markdown",
   "id": "e330273b-c9a5-4cce-8b90-f8619ac34fbb",
   "metadata": {},
   "source": [
    "### 3. 配置信任关系ssh免密登陆\n",
    "- `ssh-keygen -t rsa`\n",
    "- 在目录 .ssh 下生成公钥 id_rsa.pub\n",
    "- 将以上文件内容**追加**到要登陆的机器的 .ssh/authorized_keys 中"
   ]
  },
  {
   "cell_type": "code",
   "execution_count": null,
   "id": "e9eee15b-ff66-4b0d-895c-54306ffd0d28",
   "metadata": {},
   "outputs": [],
   "source": []
  }
 ],
 "metadata": {
  "kernelspec": {
   "display_name": "Bash",
   "language": "bash",
   "name": "bash"
  },
  "language_info": {
   "codemirror_mode": "shell",
   "file_extension": ".sh",
   "mimetype": "text/x-sh",
   "name": "bash"
  }
 },
 "nbformat": 4,
 "nbformat_minor": 5
}
