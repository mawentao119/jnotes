{
 "cells": [
  {
   "cell_type": "markdown",
   "id": "7c06788e-811c-454e-ac67-5826b1e598b2",
   "metadata": {},
   "source": [
    "#### 检查所有节点的温度"
   ]
  },
  {
   "cell_type": "code",
   "execution_count": 4,
   "id": "76c4f39c-184d-4f89-8238-96e60df3341a",
   "metadata": {},
   "outputs": [
    {
     "name": "stdout",
     "output_type": "stream",
     "text": [
      "\n",
      "PLAY [all] *********************************************************************\n",
      "\n",
      "TASK [Check temprature ...] ****************************************************\n",
      "\u001b[0;33mchanged: [workera]\u001b[0m\n",
      "\u001b[0;33mchanged: [master]\u001b[0m\n",
      "\u001b[0;33mchanged: [workerc]\u001b[0m\n",
      "\u001b[0;33mchanged: [workerb]\u001b[0m\n",
      "\u001b[0;33mchanged: [adm]\u001b[0m\n",
      "\u001b[0;33mchanged: [service]\u001b[0m\n",
      "\n",
      "TASK [Results.] ****************************************************************\n",
      "\u001b[0;32mok: [adm] => {\u001b[0m\n",
      "\u001b[0;32m    \"msg\": \"192.168.3.111 : temp=46.2'C\"\u001b[0m\n",
      "\u001b[0;32m}\u001b[0m\n",
      "\u001b[0;32mok: [master] => {\u001b[0m\n",
      "\u001b[0;32m    \"msg\": \"192.168.3.201 : temp=43.8'C\"\u001b[0m\n",
      "\u001b[0;32m}\u001b[0m\n",
      "\u001b[0;32mok: [workera] => {\u001b[0m\n",
      "\u001b[0;32m    \"msg\": \"192.168.3.203 : temp=41.3'C\"\u001b[0m\n",
      "\u001b[0;32m}\u001b[0m\n",
      "\u001b[0;32mok: [workerb] => {\u001b[0m\n",
      "\u001b[0;32m    \"msg\": \"192.168.3.204 : temp=38.4'C\"\u001b[0m\n",
      "\u001b[0;32m}\u001b[0m\n",
      "\u001b[0;32mok: [workerc] => {\u001b[0m\n",
      "\u001b[0;32m    \"msg\": \"192.168.3.205 : temp=38.9'C\"\u001b[0m\n",
      "\u001b[0;32m}\u001b[0m\n",
      "\u001b[0;32mok: [service] => {\u001b[0m\n",
      "\u001b[0;32m    \"msg\": \"192.168.3.202 : temp=40.9'C\"\u001b[0m\n",
      "\u001b[0;32m}\u001b[0m\n",
      "\n",
      "PLAY RECAP *********************************************************************\n",
      "\u001b[0;33madm\u001b[0m                        : \u001b[0;32mok=2   \u001b[0m \u001b[0;33mchanged=1   \u001b[0m unreachable=0    failed=0    skipped=0    rescued=0    ignored=0   \n",
      "\u001b[0;33mmaster\u001b[0m                     : \u001b[0;32mok=2   \u001b[0m \u001b[0;33mchanged=1   \u001b[0m unreachable=0    failed=0    skipped=0    rescued=0    ignored=0   \n",
      "\u001b[0;33mservice\u001b[0m                    : \u001b[0;32mok=2   \u001b[0m \u001b[0;33mchanged=1   \u001b[0m unreachable=0    failed=0    skipped=0    rescued=0    ignored=0   \n",
      "\u001b[0;33mworkera\u001b[0m                    : \u001b[0;32mok=2   \u001b[0m \u001b[0;33mchanged=1   \u001b[0m unreachable=0    failed=0    skipped=0    rescued=0    ignored=0   \n",
      "\u001b[0;33mworkerb\u001b[0m                    : \u001b[0;32mok=2   \u001b[0m \u001b[0;33mchanged=1   \u001b[0m unreachable=0    failed=0    skipped=0    rescued=0    ignored=0   \n",
      "\u001b[0;33mworkerc\u001b[0m                    : \u001b[0;32mok=2   \u001b[0m \u001b[0;33mchanged=1   \u001b[0m unreachable=0    failed=0    skipped=0    rescued=0    ignored=0   \n",
      "\n"
     ]
    }
   ],
   "source": [
    "ansible-playbook check_temprature.ymal"
   ]
  }
 ],
 "metadata": {
  "kernelspec": {
   "display_name": "Bash",
   "language": "bash",
   "name": "bash"
  },
  "language_info": {
   "codemirror_mode": "shell",
   "file_extension": ".sh",
   "mimetype": "text/x-sh",
   "name": "bash"
  }
 },
 "nbformat": 4,
 "nbformat_minor": 5
}
