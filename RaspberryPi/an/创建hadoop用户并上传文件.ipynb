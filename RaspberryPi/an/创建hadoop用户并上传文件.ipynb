{
 "cells": [
  {
   "cell_type": "markdown",
   "id": "26837f43-8236-41fd-a56f-12866ac2920d",
   "metadata": {},
   "source": [
    "#### 使用ansible user模块创建Hadoop用户\n",
    "- name: hadoop\n",
    "- home: /home/hadoop\n",
    "- group: hadoop\n",
    "- password: `ansible all -i localhost, -m debug -a \"msg={{ 'hadoop'| password_hash('sha512','myhadoop') }}\"  # Runing on No Mac`\n",
    "- \"$6$myhadoop$3VbyssW77alxjrXNc19wrPBUipPT6ZYluU.GRzYjbRR/xE4jwUPn788wpEp7n3Rp0gHLuRNrIu6R/JY4S1kC00\"\n",
    "- state: present"
   ]
  },
  {
   "cell_type": "markdown",
   "id": "b004920f-1d23-4fb7-959e-d1dd5a4a5df1",
   "metadata": {},
   "source": [
    "#### 传输hadoop包"
   ]
  },
  {
   "cell_type": "code",
   "execution_count": 14,
   "id": "f067e49d-5370-4927-a3be-6c74d7862697",
   "metadata": {
    "tags": []
   },
   "outputs": [
    {
     "name": "stdout",
     "output_type": "stream",
     "text": [
      "\n",
      "PLAY [masters, workers, services, pi_adm] **************************************\n",
      "\n",
      "TASK [创建用户组：hadoop] ******************************************************\n",
      "\u001b[0;32mok: [workera]\u001b[0m\n",
      "\u001b[0;32mok: [workerc]\u001b[0m\n",
      "\u001b[0;32mok: [master]\u001b[0m\n",
      "\u001b[0;32mok: [service]\u001b[0m\n",
      "\u001b[0;32mok: [workerb]\u001b[0m\n",
      "\n",
      "TASK [创建用户：hadoop] ********************************************************\n",
      "\u001b[0;32mok: [service]\u001b[0m\n",
      "\u001b[0;32mok: [workerb]\u001b[0m\n",
      "\u001b[0;32mok: [workera]\u001b[0m\n",
      "\u001b[0;32mok: [workerc]\u001b[0m\n",
      "\u001b[0;32mok: [master]\u001b[0m\n",
      "\n",
      "TASK [传输文件: hadoop.tar.gz ...] *********************************************\n",
      "\u001b[0;32mok: [workerc]\u001b[0m\n",
      "\u001b[0;32mok: [master]\u001b[0m\n",
      "\u001b[0;32mok: [workerb]\u001b[0m\n",
      "\u001b[0;32mok: [service]\u001b[0m\n",
      "\u001b[0;32mok: [workera]\u001b[0m\n",
      "\n",
      "PLAY [masters, workers, services, pi_adm] **************************************\n",
      "\n",
      "TASK [创建用户组：hadoop] ******************************************************\n",
      "\u001b[0;33mchanged: [adm]\u001b[0m\n",
      "\n",
      "TASK [创建用户：hadoop] ********************************************************\n",
      "\u001b[0;33mchanged: [adm]\u001b[0m\n",
      "\n",
      "TASK [传输文件: hadoop.tar.gz ...] *********************************************\n",
      "\u001b[0;33mchanged: [adm]\u001b[0m\n",
      "\n",
      "PLAY [masters] *****************************************************************\n",
      "\n",
      "TASK [NameNode创建文件夹：hadoop_tmp/hdfs/namenode] ****************************\n",
      "\u001b[0;32mok: [master]\u001b[0m\n",
      "\n",
      "PLAY [workers] *****************************************************************\n",
      "\n",
      "TASK [DataNode创建文件夹：hadoop_tmp/hdfs/datanode] ****************************\n",
      "\u001b[0;32mok: [workerb]\u001b[0m\n",
      "\u001b[0;32mok: [workerc]\u001b[0m\n",
      "\u001b[0;32mok: [workera]\u001b[0m\n",
      "\n",
      "PLAY RECAP *********************************************************************\n",
      "\u001b[0;33madm\u001b[0m                        : \u001b[0;32mok=3   \u001b[0m \u001b[0;33mchanged=3   \u001b[0m unreachable=0    failed=0    skipped=0    rescued=0    ignored=0   \n",
      "\u001b[0;32mmaster\u001b[0m                     : \u001b[0;32mok=4   \u001b[0m changed=0    unreachable=0    failed=0    skipped=0    rescued=0    ignored=0   \n",
      "\u001b[0;32mservice\u001b[0m                    : \u001b[0;32mok=3   \u001b[0m changed=0    unreachable=0    failed=0    skipped=0    rescued=0    ignored=0   \n",
      "\u001b[0;32mworkera\u001b[0m                    : \u001b[0;32mok=4   \u001b[0m changed=0    unreachable=0    failed=0    skipped=0    rescued=0    ignored=0   \n",
      "\u001b[0;32mworkerb\u001b[0m                    : \u001b[0;32mok=4   \u001b[0m changed=0    unreachable=0    failed=0    skipped=0    rescued=0    ignored=0   \n",
      "\u001b[0;32mworkerc\u001b[0m                    : \u001b[0;32mok=4   \u001b[0m changed=0    unreachable=0    failed=0    skipped=0    rescued=0    ignored=0   \n",
      "\n"
     ]
    }
   ],
   "source": [
    "ansible-playbook create_hadoop_user_and_uploadfile.ymal"
   ]
  },
  {
   "cell_type": "markdown",
   "id": "d85c9c94-786f-4d18-ac59-f31d510aa6c9",
   "metadata": {},
   "source": [
    "---"
   ]
  },
  {
   "cell_type": "markdown",
   "id": "28ab2155-6a9a-49b1-a3c3-4a421ca4b622",
   "metadata": {},
   "source": [
    "#### 设置环境变量"
   ]
  },
  {
   "cell_type": "code",
   "execution_count": 20,
   "id": "7316c711-2e8d-425c-97af-045c31a6f95e",
   "metadata": {
    "tags": []
   },
   "outputs": [
    {
     "name": "stdout",
     "output_type": "stream",
     "text": [
      "\n",
      "PLAY [masters, workers, services] **********************************************\n",
      "\n",
      "TASK [环境变量：JAVA_HOME] *****************************************************\n",
      "\u001b[0;33mchanged: [workera]\u001b[0m\n",
      "\u001b[0;33mchanged: [service]\u001b[0m\n",
      "\u001b[0;33mchanged: [workerb]\u001b[0m\n",
      "\u001b[0;33mchanged: [workerc]\u001b[0m\n",
      "\u001b[0;33mchanged: [master]\u001b[0m\n",
      "\n",
      "TASK [环境变量：HADOOP_HOME] ***************************************************\n",
      "\u001b[0;32mok: [workera]\u001b[0m\n",
      "\u001b[0;32mok: [master]\u001b[0m\n",
      "\u001b[0;32mok: [service]\u001b[0m\n",
      "\u001b[0;32mok: [workerc]\u001b[0m\n",
      "\u001b[0;32mok: [workerb]\u001b[0m\n",
      "\n",
      "TASK [环境变量：HADOOP_INSTALL] ************************************************\n",
      "\u001b[0;32mok: [workerb]\u001b[0m\n",
      "\u001b[0;32mok: [workera]\u001b[0m\n",
      "\u001b[0;32mok: [workerc]\u001b[0m\n",
      "\u001b[0;32mok: [service]\u001b[0m\n",
      "\u001b[0;32mok: [master]\u001b[0m\n",
      "\n",
      "TASK [环境变量：YARN_HOME] *****************************************************\n",
      "\u001b[0;32mok: [service]\u001b[0m\n",
      "\u001b[0;32mok: [workerb]\u001b[0m\n",
      "\u001b[0;32mok: [master]\u001b[0m\n",
      "\u001b[0;32mok: [workera]\u001b[0m\n",
      "\u001b[0;32mok: [workerc]\u001b[0m\n",
      "\n",
      "TASK [环境变量：HADOOP_COMMON_LIB_NATIVE_DIR] **********************************\n",
      "\u001b[0;32mok: [master]\u001b[0m\n",
      "\u001b[0;32mok: [service]\u001b[0m\n",
      "\u001b[0;32mok: [workerc]\u001b[0m\n",
      "\u001b[0;32mok: [workerb]\u001b[0m\n",
      "\u001b[0;32mok: [workera]\u001b[0m\n",
      "\n",
      "TASK [环境变量：HADOOP_OPTS] ***************************************************\n",
      "\u001b[0;32mok: [workerb]\u001b[0m\n",
      "\u001b[0;32mok: [service]\u001b[0m\n",
      "\u001b[0;32mok: [workerc]\u001b[0m\n",
      "\u001b[0;32mok: [workera]\u001b[0m\n",
      "\u001b[0;32mok: [master]\u001b[0m\n",
      "\n",
      "TASK [Spark 环境变量：HADOOP_CONF_DIR] *****************************************\n",
      "\u001b[0;33mchanged: [master]\u001b[0m\n",
      "\u001b[0;33mchanged: [workerc]\u001b[0m\n",
      "\u001b[0;33mchanged: [workera]\u001b[0m\n",
      "\u001b[0;33mchanged: [workerb]\u001b[0m\n",
      "\u001b[0;32mok: [service]\u001b[0m\n",
      "\n",
      "TASK [Spark 环境变量：YARN_CONF_DIR] *******************************************\n",
      "\u001b[0;32mok: [service]\u001b[0m\n",
      "\u001b[0;33mchanged: [workerb]\u001b[0m\n",
      "\u001b[0;33mchanged: [master]\u001b[0m\n",
      "\u001b[0;33mchanged: [workera]\u001b[0m\n",
      "\u001b[0;33mchanged: [workerc]\u001b[0m\n",
      "\n",
      "TASK [Spark Home :] ************************************************************\n",
      "\u001b[0;33mchanged: [service]\u001b[0m\n",
      "\u001b[0;33mchanged: [master]\u001b[0m\n",
      "\u001b[0;33mchanged: [workera]\u001b[0m\n",
      "\u001b[0;33mchanged: [workerb]\u001b[0m\n",
      "\u001b[0;33mchanged: [workerc]\u001b[0m\n",
      "\n",
      "TASK [HIVE Home :] *************************************************************\n",
      "\u001b[0;33mchanged: [service]\u001b[0m\n",
      "\u001b[0;33mchanged: [master]\u001b[0m\n",
      "\u001b[0;33mchanged: [workerc]\u001b[0m\n",
      "\u001b[0;33mchanged: [workerb]\u001b[0m\n",
      "\u001b[0;33mchanged: [workera]\u001b[0m\n",
      "\n",
      "TASK [环境变量：PATH] **********************************************************\n",
      "\u001b[0;33mchanged: [service]\u001b[0m\n",
      "\u001b[0;33mchanged: [workerc]\u001b[0m\n",
      "\u001b[0;33mchanged: [master]\u001b[0m\n",
      "\u001b[0;33mchanged: [workerb]\u001b[0m\n",
      "\u001b[0;33mchanged: [workera]\u001b[0m\n",
      "\n",
      "PLAY RECAP *********************************************************************\n",
      "\u001b[0;33mmaster\u001b[0m                     : \u001b[0;32mok=11  \u001b[0m \u001b[0;33mchanged=6   \u001b[0m unreachable=0    failed=0    skipped=0    rescued=0    ignored=0   \n",
      "\u001b[0;33mservice\u001b[0m                    : \u001b[0;32mok=11  \u001b[0m \u001b[0;33mchanged=4   \u001b[0m unreachable=0    failed=0    skipped=0    rescued=0    ignored=0   \n",
      "\u001b[0;33mworkera\u001b[0m                    : \u001b[0;32mok=11  \u001b[0m \u001b[0;33mchanged=6   \u001b[0m unreachable=0    failed=0    skipped=0    rescued=0    ignored=0   \n",
      "\u001b[0;33mworkerb\u001b[0m                    : \u001b[0;32mok=11  \u001b[0m \u001b[0;33mchanged=6   \u001b[0m unreachable=0    failed=0    skipped=0    rescued=0    ignored=0   \n",
      "\u001b[0;33mworkerc\u001b[0m                    : \u001b[0;32mok=11  \u001b[0m \u001b[0;33mchanged=6   \u001b[0m unreachable=0    failed=0    skipped=0    rescued=0    ignored=0   \n",
      "\n"
     ]
    }
   ],
   "source": [
    "ansible-playbook set_enviroment_vars.ymal"
   ]
  },
  {
   "cell_type": "markdown",
   "id": "9b0e2a6b-a49e-4cf0-b94e-6e2d624381c0",
   "metadata": {},
   "source": [
    "---"
   ]
  },
  {
   "cell_type": "code",
   "execution_count": 16,
   "id": "bf0c0b09-b07c-4be0-8783-54bda864ac92",
   "metadata": {
    "tags": []
   },
   "outputs": [
    {
     "name": "stdout",
     "output_type": "stream",
     "text": [
      "\n",
      "PLAY [masters, workers, services, pi_adm] **************************************\n",
      "\n",
      "TASK [解压压缩包hadoop-3.2.2.tar.gz] *******************************************\n",
      "\u001b[0;33mchanged: [service]\u001b[0m\n",
      "\u001b[0;33mchanged: [workera]\u001b[0m\n",
      "\u001b[0;33mchanged: [workerb]\u001b[0m\n",
      "\u001b[0;33mchanged: [workerc]\u001b[0m\n",
      "\u001b[0;33mchanged: [master]\u001b[0m\n",
      "\n",
      "TASK [确保目录/home/hadoop/hadoop不存在] ***************************************\n",
      "\u001b[0;33mchanged: [service]\u001b[0m\n",
      "\u001b[0;33mchanged: [workera]\u001b[0m\n",
      "\u001b[0;33mchanged: [workerc]\u001b[0m\n",
      "\u001b[0;33mchanged: [master]\u001b[0m\n",
      "\u001b[0;33mchanged: [workerb]\u001b[0m\n",
      "\n",
      "TASK [重命名hadoop-3.2.2目录为hadoop] ******************************************\n",
      "\u001b[0;33mchanged: [workerb]\u001b[0m\n",
      "\u001b[0;33mchanged: [workerc]\u001b[0m\n",
      "\u001b[0;33mchanged: [service]\u001b[0m\n",
      "\u001b[0;33mchanged: [workera]\u001b[0m\n",
      "\u001b[0;33mchanged: [master]\u001b[0m\n",
      "\n",
      "TASK [copy] ********************************************************************\n",
      "\u001b[0;33mchanged: [workerc]\u001b[0m\n",
      "\u001b[0;33mchanged: [workerb]\u001b[0m\n",
      "\u001b[0;33mchanged: [service]\u001b[0m\n",
      "\u001b[0;33mchanged: [workera]\u001b[0m\n",
      "\u001b[0;33mchanged: [master]\u001b[0m\n",
      "\n",
      "PLAY [masters, workers, services, pi_adm] **************************************\n",
      "\n",
      "TASK [解压压缩包hadoop-3.2.2.tar.gz] *******************************************\n",
      "\u001b[0;33mchanged: [adm]\u001b[0m\n",
      "\n",
      "TASK [确保目录/home/hadoop/hadoop不存在] ***************************************\n",
      "\u001b[0;32mok: [adm]\u001b[0m\n",
      "\n",
      "TASK [重命名hadoop-3.2.2目录为hadoop] ******************************************\n",
      "\u001b[0;33mchanged: [adm]\u001b[0m\n",
      "\n",
      "TASK [copy] ********************************************************************\n",
      "\u001b[0;33mchanged: [adm]\u001b[0m\n",
      "\n",
      "PLAY RECAP *********************************************************************\n",
      "\u001b[0;33madm\u001b[0m                        : \u001b[0;32mok=4   \u001b[0m \u001b[0;33mchanged=3   \u001b[0m unreachable=0    failed=0    skipped=0    rescued=0    ignored=0   \n",
      "\u001b[0;33mmaster\u001b[0m                     : \u001b[0;32mok=4   \u001b[0m \u001b[0;33mchanged=4   \u001b[0m unreachable=0    failed=0    skipped=0    rescued=0    ignored=0   \n",
      "\u001b[0;33mservice\u001b[0m                    : \u001b[0;32mok=4   \u001b[0m \u001b[0;33mchanged=4   \u001b[0m unreachable=0    failed=0    skipped=0    rescued=0    ignored=0   \n",
      "\u001b[0;33mworkera\u001b[0m                    : \u001b[0;32mok=4   \u001b[0m \u001b[0;33mchanged=4   \u001b[0m unreachable=0    failed=0    skipped=0    rescued=0    ignored=0   \n",
      "\u001b[0;33mworkerb\u001b[0m                    : \u001b[0;32mok=4   \u001b[0m \u001b[0;33mchanged=4   \u001b[0m unreachable=0    failed=0    skipped=0    rescued=0    ignored=0   \n",
      "\u001b[0;33mworkerc\u001b[0m                    : \u001b[0;32mok=4   \u001b[0m \u001b[0;33mchanged=4   \u001b[0m unreachable=0    failed=0    skipped=0    rescued=0    ignored=0   \n",
      "\n"
     ]
    }
   ],
   "source": [
    "ansible-playbook unarchive_and_config.ymal"
   ]
  },
  {
   "cell_type": "code",
   "execution_count": 21,
   "id": "4ce16f47-340e-46ee-8e1f-0c7da9311536",
   "metadata": {},
   "outputs": [
    {
     "name": "stdout",
     "output_type": "stream",
     "text": [
      "\n",
      "PLAY [masters, workers, services, pi_adm] **************************************\n",
      "\n",
      "TASK [传输配置文件] ************************************************************\n",
      "\u001b[0;33mchanged: [service]\u001b[0m\n",
      "\u001b[0;33mchanged: [workerb]\u001b[0m\n",
      "\u001b[0;33mchanged: [master]\u001b[0m\n",
      "\u001b[0;33mchanged: [workerc]\u001b[0m\n",
      "\u001b[0;33mchanged: [workera]\u001b[0m\n",
      "\n",
      "PLAY [masters, workers, services, pi_adm] **************************************\n",
      "\n",
      "TASK [传输配置文件] ************************************************************\n",
      "\u001b[0;33mchanged: [adm]\u001b[0m\n",
      "\n",
      "PLAY RECAP *********************************************************************\n",
      "\u001b[0;33madm\u001b[0m                        : \u001b[0;32mok=1   \u001b[0m \u001b[0;33mchanged=1   \u001b[0m unreachable=0    failed=0    skipped=0    rescued=0    ignored=0   \n",
      "\u001b[0;33mmaster\u001b[0m                     : \u001b[0;32mok=1   \u001b[0m \u001b[0;33mchanged=1   \u001b[0m unreachable=0    failed=0    skipped=0    rescued=0    ignored=0   \n",
      "\u001b[0;33mservice\u001b[0m                    : \u001b[0;32mok=1   \u001b[0m \u001b[0;33mchanged=1   \u001b[0m unreachable=0    failed=0    skipped=0    rescued=0    ignored=0   \n",
      "\u001b[0;33mworkera\u001b[0m                    : \u001b[0;32mok=1   \u001b[0m \u001b[0;33mchanged=1   \u001b[0m unreachable=0    failed=0    skipped=0    rescued=0    ignored=0   \n",
      "\u001b[0;33mworkerb\u001b[0m                    : \u001b[0;32mok=1   \u001b[0m \u001b[0;33mchanged=1   \u001b[0m unreachable=0    failed=0    skipped=0    rescued=0    ignored=0   \n",
      "\u001b[0;33mworkerc\u001b[0m                    : \u001b[0;32mok=1   \u001b[0m \u001b[0;33mchanged=1   \u001b[0m unreachable=0    failed=0    skipped=0    rescued=0    ignored=0   \n",
      "\n"
     ]
    }
   ],
   "source": [
    "ansible-playbook send_config_file.ymal"
   ]
  },
  {
   "cell_type": "code",
   "execution_count": null,
   "id": "d1e5f969-3cd4-438c-b003-4c19afa80cee",
   "metadata": {},
   "outputs": [],
   "source": []
  }
 ],
 "metadata": {
  "kernelspec": {
   "display_name": "Bash",
   "language": "bash",
   "name": "bash"
  },
  "language_info": {
   "codemirror_mode": "shell",
   "file_extension": ".sh",
   "mimetype": "text/x-sh",
   "name": "bash"
  }
 },
 "nbformat": 4,
 "nbformat_minor": 5
}
