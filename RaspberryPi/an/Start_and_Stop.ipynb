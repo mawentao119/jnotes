{
 "cells": [
  {
   "cell_type": "code",
   "execution_count": 9,
   "id": "4404dfe0-e991-404b-ba70-ed7a0ba218a2",
   "metadata": {},
   "outputs": [
    {
     "name": "stdout",
     "output_type": "stream",
     "text": [
      "\n",
      "PLAY [master] ******************************************************************\n",
      "\n",
      "TASK [Stop all] ****************************************************************\n",
      "\u001b[1;31mfatal: [master]: UNREACHABLE! => {\"changed\": false, \"msg\": \"Failed to connect to the host via ssh: ssh: connect to host 192.168.3.201 port 22: Operation timed out\", \"unreachable\": true}\u001b[0m\n",
      "\n",
      "PLAY RECAP *********************************************************************\n",
      "\u001b[0;31mmaster\u001b[0m                     : ok=0    changed=0    \u001b[1;31munreachable=1   \u001b[0m failed=0    skipped=0    rescued=0    ignored=0   \n",
      "\n"
     ]
    },
    {
     "ename": "",
     "evalue": "4",
     "output_type": "error",
     "traceback": []
    }
   ],
   "source": [
    "ansible-playbook stop_hdfs_and_yarn.ymal"
   ]
  },
  {
   "cell_type": "code",
   "execution_count": 8,
   "id": "ca982c21-5167-47d7-a8de-34cc27849b49",
   "metadata": {},
   "outputs": [
    {
     "name": "stdout",
     "output_type": "stream",
     "text": [
      "\n",
      "PLAY [all] *********************************************************************\n",
      "\n",
      "TASK [poweroff] ****************************************************************\n",
      "\u001b[1;31mfatal: [workerc]: UNREACHABLE! => {\"changed\": false, \"msg\": \"Failed to connect to the host via ssh: Shared connection to 192.168.3.205 closed.\", \"unreachable\": true}\u001b[0m\n",
      "\u001b[1;31mfatal: [workerb]: UNREACHABLE! => {\"changed\": false, \"msg\": \"Failed to connect to the host via ssh: Shared connection to 192.168.3.204 closed.\", \"unreachable\": true}\u001b[0m\n",
      "\u001b[1;31mfatal: [workera]: UNREACHABLE! => {\"changed\": false, \"msg\": \"Failed to connect to the host via ssh: Shared connection to 192.168.3.203 closed.\", \"unreachable\": true}\u001b[0m\n",
      "\u001b[1;31mfatal: [master]: UNREACHABLE! => {\"changed\": false, \"msg\": \"Failed to connect to the host via ssh: Shared connection to 192.168.3.201 closed.\", \"unreachable\": true}\u001b[0m\n",
      "\u001b[1;31mfatal: [adm]: UNREACHABLE! => {\"changed\": false, \"msg\": \"Failed to connect to the host via ssh: Shared connection to 192.168.3.111 closed.\", \"unreachable\": true}\u001b[0m\n",
      "\n",
      "PLAY RECAP *********************************************************************\n",
      "\u001b[0;31madm\u001b[0m                        : ok=0    changed=0    \u001b[1;31munreachable=1   \u001b[0m failed=0    skipped=0    rescued=0    ignored=0   \n",
      "\u001b[0;31mmaster\u001b[0m                     : ok=0    changed=0    \u001b[1;31munreachable=1   \u001b[0m failed=0    skipped=0    rescued=0    ignored=0   \n",
      "\u001b[0;31mworkera\u001b[0m                    : ok=0    changed=0    \u001b[1;31munreachable=1   \u001b[0m failed=0    skipped=0    rescued=0    ignored=0   \n",
      "\u001b[0;31mworkerb\u001b[0m                    : ok=0    changed=0    \u001b[1;31munreachable=1   \u001b[0m failed=0    skipped=0    rescued=0    ignored=0   \n",
      "\u001b[0;31mworkerc\u001b[0m                    : ok=0    changed=0    \u001b[1;31munreachable=1   \u001b[0m failed=0    skipped=0    rescued=0    ignored=0   \n",
      "\n"
     ]
    },
    {
     "ename": "",
     "evalue": "4",
     "output_type": "error",
     "traceback": []
    }
   ],
   "source": [
    "ansible-playbook poweroff_pi.ymal"
   ]
  },
  {
   "cell_type": "code",
   "execution_count": null,
   "id": "731c2daf-5e79-41ad-895f-23eeb8015b83",
   "metadata": {},
   "outputs": [],
   "source": []
  }
 ],
 "metadata": {
  "kernelspec": {
   "display_name": "Bash",
   "language": "bash",
   "name": "bash"
  },
  "language_info": {
   "codemirror_mode": "shell",
   "file_extension": ".sh",
   "mimetype": "text/x-sh",
   "name": "bash"
  }
 },
 "nbformat": 4,
 "nbformat_minor": 5
}
