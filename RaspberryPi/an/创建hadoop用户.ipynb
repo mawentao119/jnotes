{
 "cells": [
  {
   "cell_type": "markdown",
   "id": "26837f43-8236-41fd-a56f-12866ac2920d",
   "metadata": {},
   "source": [
    "#### 使用ansible user模块创建Hadoop用户\n",
    "- name: hadoop\n",
    "- home: /home/hadoop\n",
    "- group: hadoop\n",
    "- password: `ansible all -i localhost, -m debug -a \"msg={{ 'hadoop'| password_hash('sha512','myhadoop') }}\"  # Runing on No Mac`\n",
    "- \"$6$myhadoop$3VbyssW77alxjrXNc19wrPBUipPT6ZYluU.GRzYjbRR/xE4jwUPn788wpEp7n3Rp0gHLuRNrIu6R/JY4S1kC00\"\n",
    "- state: present"
   ]
  },
  {
   "cell_type": "code",
   "execution_count": 17,
   "id": "f067e49d-5370-4927-a3be-6c74d7862697",
   "metadata": {},
   "outputs": [
    {
     "name": "stdout",
     "output_type": "stream",
     "text": [
      "\n",
      "PLAY [masters, workers, services] **********************************************\n",
      "\n",
      "TASK [创建用户组：hadoop] ******************************************************\n",
      "\u001b[0;32mok: [master]\u001b[0m\n",
      "\u001b[0;32mok: [workerc]\u001b[0m\n",
      "\u001b[0;32mok: [workera]\u001b[0m\n",
      "\u001b[0;32mok: [workerb]\u001b[0m\n",
      "\u001b[0;32mok: [service]\u001b[0m\n",
      "\n",
      "TASK [创建用户：hadoop] ********************************************************\n",
      "\u001b[0;32mok: [workera]\u001b[0m\n",
      "\u001b[0;32mok: [workerb]\u001b[0m\n",
      "\u001b[0;32mok: [master]\u001b[0m\n",
      "\u001b[0;32mok: [workerc]\u001b[0m\n",
      "\u001b[0;32mok: [service]\u001b[0m\n",
      "\n",
      "TASK [传输文件: hadoop.tar.gz ...] *********************************************\n",
      "\u001b[0;32mok: [service]\u001b[0m\n",
      "\u001b[0;32mok: [master]\u001b[0m\n",
      "\u001b[0;32mok: [workerc]\u001b[0m\n",
      "\u001b[0;32mok: [workera]\u001b[0m\n",
      "\u001b[0;32mok: [workerb]\u001b[0m\n",
      "\n",
      "PLAY [masters] *****************************************************************\n",
      "\n",
      "TASK [创建文件夹：hadoop_tmp/hdfs/namenode] ************************************\n",
      "\u001b[0;33mchanged: [master]\u001b[0m\n",
      "\n",
      "PLAY [workers] *****************************************************************\n",
      "\n",
      "TASK [创建文件夹：hadoop_tmp/hdfs/datanode] ************************************\n",
      "\u001b[0;33mchanged: [workera]\u001b[0m\n",
      "\u001b[0;33mchanged: [workerc]\u001b[0m\n",
      "\u001b[0;33mchanged: [workerb]\u001b[0m\n",
      "\n",
      "PLAY RECAP *********************************************************************\n",
      "\u001b[0;33mmaster\u001b[0m                     : \u001b[0;32mok=4   \u001b[0m \u001b[0;33mchanged=1   \u001b[0m unreachable=0    failed=0    skipped=0    rescued=0    ignored=0   \n",
      "\u001b[0;32mservice\u001b[0m                    : \u001b[0;32mok=3   \u001b[0m changed=0    unreachable=0    failed=0    skipped=0    rescued=0    ignored=0   \n",
      "\u001b[0;33mworkera\u001b[0m                    : \u001b[0;32mok=4   \u001b[0m \u001b[0;33mchanged=1   \u001b[0m unreachable=0    failed=0    skipped=0    rescued=0    ignored=0   \n",
      "\u001b[0;33mworkerb\u001b[0m                    : \u001b[0;32mok=4   \u001b[0m \u001b[0;33mchanged=1   \u001b[0m unreachable=0    failed=0    skipped=0    rescued=0    ignored=0   \n",
      "\u001b[0;33mworkerc\u001b[0m                    : \u001b[0;32mok=4   \u001b[0m \u001b[0;33mchanged=1   \u001b[0m unreachable=0    failed=0    skipped=0    rescued=0    ignored=0   \n",
      "\n"
     ]
    }
   ],
   "source": [
    "ansible-playbook create_hadoop_user.ymal"
   ]
  },
  {
   "cell_type": "markdown",
   "id": "b004920f-1d23-4fb7-959e-d1dd5a4a5df1",
   "metadata": {},
   "source": [
    "#### 传输hadoop包"
   ]
  },
  {
   "cell_type": "code",
   "execution_count": null,
   "id": "d1c7cc94-a0fc-4468-b2ba-282814b81daf",
   "metadata": {},
   "outputs": [],
   "source": []
  }
 ],
 "metadata": {
  "kernelspec": {
   "display_name": "Bash",
   "language": "bash",
   "name": "bash"
  },
  "language_info": {
   "codemirror_mode": "shell",
   "file_extension": ".sh",
   "mimetype": "text/x-sh",
   "name": "bash"
  }
 },
 "nbformat": 4,
 "nbformat_minor": 5
}
